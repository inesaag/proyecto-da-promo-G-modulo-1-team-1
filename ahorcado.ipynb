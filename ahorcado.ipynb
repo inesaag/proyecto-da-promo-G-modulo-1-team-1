{
 "cells": [
  {
   "cell_type": "code",
   "execution_count": 1,
   "metadata": {},
   "outputs": [
    {
     "name": "stdout",
     "output_type": "stream",
     "text": [
      "['c', 'a', 'b', 'a', 'l', 'l', 'o']\n",
      "caballo\n"
     ]
    },
    {
     "data": {
      "text/plain": [
       "['_', '_', '_', '_', '_', '_', '_']"
      ]
     },
     "execution_count": 1,
     "metadata": {},
     "output_type": "execute_result"
    }
   ],
   "source": [
    "import random\n",
    "from random import choices\n",
    "animales= [\"vaca\",\"perro\", \"gato\",\"caballo\" ]\n",
    "palabra_secreta = random.choice(animales)\n",
    "\n",
    "palabra_secreta1=list(palabra_secreta)\n",
    "print(palabra_secreta1)\n",
    "\n",
    "print(palabra_secreta)\n",
    "caracter=[]\n",
    "for letra in palabra_secreta:\n",
    "    caracter.append(\"_\")\n",
    "caracter"
   ]
  },
  {
   "cell_type": "code",
   "execution_count": 2,
   "metadata": {},
   "outputs": [
    {
     "name": "stdout",
     "output_type": "stream",
     "text": [
      "la c está en la palabra\n",
      "['c', '_', '_', '_', '_', '_', '_']\n",
      "-----\n",
      "la a está en la palabra\n",
      "['c', 'a', '_', '_', '_', '_', '_']\n",
      "-----\n",
      "la a está en la palabra\n",
      "['c', 'a', '_', 'a', '_', '_', '_']\n",
      "-----\n",
      "la b está en la palabra\n",
      "['c', 'a', 'b', 'a', '_', '_', '_']\n",
      "-----\n",
      "la l está en la palabra\n",
      "['c', 'a', 'b', 'a', 'l', '_', '_']\n",
      "-----\n",
      "la l está en la palabra\n",
      "['c', 'a', 'b', 'a', 'l', 'l', '_']\n",
      "-----\n",
      "la i no está en la palabra\n",
      "-----\n",
      "la t no está en la palabra\n",
      "-----\n",
      "has perdido\n"
     ]
    }
   ],
   "source": [
    "# Primero, se crea un diccionario llamado palabra_secreta donde las letras de la palabra \"python\" se representan con asteriscos.\n",
    "\n",
    "\n",
    "# Se establece el número inicial de vidas del jugador en 10.\n",
    "intentos = 1\n",
    "# Se crea una variable llamada 'respuesta' que contiene los asteriscos del diccionario como una cadena.\n",
    "\n",
    "\n",
    "# Se inicia un bucle while que se ejecutará mientras la respuesta no sea igual a \"python\" y el jugador tenga al menos 1 vida.\n",
    "    \n",
    "while intentos <=2:\n",
    "    \n",
    "    letra= input(\"inserta una letra\").lower()\n",
    "    while letra in palabra_secreta1: \n",
    "        i=palabra_secreta1.index(letra)\n",
    "        caracter.pop(i)\n",
    "        caracter.insert(i,letra)\n",
    "        palabra_secreta1.pop(i)\n",
    "        palabra_secreta1.insert(i,\"*\")\n",
    "\n",
    "        print(f\"la {letra} está en la palabra\")\n",
    "        print(caracter)\n",
    "        print(\"-----\")\n",
    "        if  \"_\" not in caracter :\n",
    "            print(\"has ganado\")\n",
    "            break\n",
    "    if letra not in palabra_secreta:\n",
    "        print(f\"la {letra} no está en la palabra\")\n",
    "        intentos +=1\n",
    "        print(\"-----\")\n",
    "    \n",
    "else:\n",
    "    print(\"Has perdido\")\n"
   ]
  }
 ],
 "metadata": {
  "kernelspec": {
   "display_name": "base",
   "language": "python",
   "name": "python3"
  },
  "language_info": {
   "codemirror_mode": {
    "name": "ipython",
    "version": 3
   },
   "file_extension": ".py",
   "mimetype": "text/x-python",
   "name": "python",
   "nbconvert_exporter": "python",
   "pygments_lexer": "ipython3",
   "version": "3.9.7"
  }
 },
 "nbformat": 4,
 "nbformat_minor": 2
}
