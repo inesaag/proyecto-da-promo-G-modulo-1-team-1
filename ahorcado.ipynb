{
 "cells": [
  {
   "cell_type": "code",
   "execution_count": 3,
   "metadata": {},
   "outputs": [
    {
     "data": {
      "text/plain": [
       "['_', '_', '_', '_', '_', '_', '_']"
      ]
     },
     "execution_count": 3,
     "metadata": {},
     "output_type": "execute_result"
    }
   ],
   "source": [
    "import random\n",
    "from random import choices\n",
    "\n",
    "animales = [\"Elefante\", \"Tigre\", \"Leon\", \"Jirafa\", \"Cebra\", \"Hipopotamo\", \"Oso\", \"Mono\", \"Lobo\", \"Gorila\",\n",
    "            \"Pinguino\", \"Delfin\", \"Ballena\", \"Aguila\", \"Leopardo\", \"Rinoceronte\", \"Halcon\", \"Jaguar\", \"Orangutan\",\n",
    "            \"Camello\", \"Koala\", \"Panda\", \"Serpiente\", \"Tortuga\", \"Tucan\", \"Canguro\", \"Cocodrilo\", \"Hormiga\"]\n",
    "\n",
    "\n",
    "palabra_secreta = random.choice(animales).lower()\n",
    "\n",
    "palabra_secreta1=list(palabra_secreta)\n",
    "#print(palabra_secreta1)\n",
    "\n",
    "#print(palabra_secreta)\n",
    "caracter=[]\n",
    "for letra in palabra_secreta:\n",
    "    caracter.append(\"_\")\n",
    "caracter"
   ]
  },
  {
   "cell_type": "code",
   "execution_count": 4,
   "metadata": {},
   "outputs": [
    {
     "name": "stdout",
     "output_type": "stream",
     "text": [
      "la a está en la palabra\n",
      "['_', 'a', '_', '_', '_', '_', '_']\n",
      "-----\n",
      "la a está en la palabra\n",
      "['_', 'a', '_', '_', '_', '_', 'a']\n",
      "-----\n",
      "la b está en la palabra\n",
      "['b', 'a', '_', '_', '_', '_', 'a']\n",
      "-----\n",
      "la l está en la palabra\n",
      "['b', 'a', 'l', '_', '_', '_', 'a']\n",
      "-----\n",
      "la l está en la palabra\n",
      "['b', 'a', 'l', 'l', '_', '_', 'a']\n",
      "-----\n",
      "la e está en la palabra\n",
      "['b', 'a', 'l', 'l', 'e', '_', 'a']\n",
      "-----\n",
      "la n está en la palabra\n",
      "['b', 'a', 'l', 'l', 'e', 'n', 'a']\n",
      "-----\n",
      "has ganado\n"
     ]
    }
   ],
   "source": [
    "# Primero, se crea un diccionario llamado palabra_secreta donde las letras de la palabra \"python\" se representan con asteriscos.\n",
    "\n",
    "\n",
    "# Se establece el número inicial de vidas del jugador en 10.\n",
    "intentos = 1\n",
    "# Se crea una variable llamada 'respuesta' que contiene los asteriscos del diccionario como una cadena.\n",
    "\n",
    "\n",
    "# Se inicia un bucle while que se ejecutará mientras la respuesta no sea igual a \"python\" y el jugador tenga al menos 1 vida.\n",
    "    \n",
    "while intentos <10 and \"_\" in caracter:\n",
    "    \n",
    "    letra= input(\"inserta una letra\").lower()\n",
    "    while letra in palabra_secreta1: \n",
    "        i=palabra_secreta1.index(letra)\n",
    "        caracter.pop(i)\n",
    "        caracter.insert(i,letra)\n",
    "        palabra_secreta1.pop(i)\n",
    "        palabra_secreta1.insert(i,\"*\")\n",
    "        print(f\"la {letra} está en la palabra\")\n",
    "        print(caracter)\n",
    "        print(\"------------\")\n",
    "\n",
    "        if  \"_\" not in caracter :\n",
    "            print(\"has ganado\")\n",
    "            break\n",
    "    if letra not in palabra_secreta:\n",
    "        print(f\"la {letra} no está en la palabra\")\n",
    "        intentos +=1\n",
    "        print(\"------------\")\n",
    "    \n",
    "if intentos >= 10:\n",
    "    print(\"Has perdido\")\n"
   ]
  }
 ],
 "metadata": {
  "kernelspec": {
   "display_name": "base",
   "language": "python",
   "name": "python3"
  },
  "language_info": {
   "codemirror_mode": {
    "name": "ipython",
    "version": 3
   },
   "file_extension": ".py",
   "mimetype": "text/x-python",
   "name": "python",
   "nbconvert_exporter": "python",
   "pygments_lexer": "ipython3",
   "version": "3.11.5"
  }
 },
 "nbformat": 4,
 "nbformat_minor": 2
}
