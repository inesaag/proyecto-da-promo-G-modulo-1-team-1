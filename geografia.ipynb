{
 "cells": [
  {
   "cell_type": "markdown",
   "metadata": {},
   "source": [
    "Juego de preguntas y respuestas: es un juego en el que se hacen preguntas sobre una variedad de temas y los jugadores deben responder correctamente para avanzar. Las preguntas pueden ser de diferentes categorías, como historia, ciencias, entretenimiento o cultura general. El objetivo del juego es responder la mayor cantidad de preguntas correctamente para ganar el juego. Este juego puede ser jugado de forma individual o en equipo y es una forma divertida de aprender y poner a prueba tus conocimientos."
   ]
  },
  {
   "cell_type": "code",
   "execution_count": 1,
   "metadata": {},
   "outputs": [],
   "source": [
    "#nos descargamos la libreria random\n",
    "from random import choices"
   ]
  },
  {
   "cell_type": "code",
   "execution_count": 2,
   "metadata": {},
   "outputs": [],
   "source": [
    "#definimos una lista de preguntas y respuestas y sacamos una aleatora\n",
    "preguntas = {\"¿En qué continente se encuentra Nueva York?\" : \"america\", \"¿En qué continente se encuentra Bombay?\" : \"asia\", \"¿En qué continente se encuentra París?\" : \"europa\", \"¿En qué continente se encuentra Australia?\" : \"oceania\", \"¿En qué continente se encuentra México?\" : \"america\", \"¿En qué continente se encuentra España?\" : \"europa\", \"¿En qué continente se encuentra Tokio?\" : \"asia\", \"¿En qué continente se encuentra Pekin?\" : \"asia\", \"¿En qué continente se encuentra Bruselas?\" : \"europa\", \"¿En qué continente se encuentra Bogota?\" : \"america\", \"¿En qué continente se encuentra Cuba?\": 'america', '¿En qué continente se encuentra Buenos Aires?': 'america', '¿En qué continente se encuentra Bangladesh?': 'asia', '¿En qué continente se encuentra Filipinas?': 'asia', '¿En qué continente se encuentra Mozambique?': 'africa', '¿En qué continente se encuentra Senegal?' : 'africa', '¿En qué continente se encuentra Ciudad del Cabo?': 'africa', '¿En qué continente se encuentra Afganistan?': 'asia','¿En qué continente se encuentra Alaska?' : 'américa', '¿En qué país se encuentra la Torre Eiffel?': 'francia'}\n"
   ]
  },
  {
   "cell_type": "code",
   "execution_count": 4,
   "metadata": {},
   "outputs": [
    {
     "name": "stdout",
     "output_type": "stream",
     "text": [
      "¡Respuesta correcta!\n",
      "¡---------------------!\n",
      "Respuesta incorrecta, la respuesta correcta era Africa\n",
      "---------------------\n"
     ]
    }
   ],
   "source": [
    "#sacamos una pregunta, respuesta aleatoria y la preguntamos al usuario. de momento hemos puesto 2 rondas para probar\n",
    "\n",
    "#vidas = 3\n",
    "ronda = 1\n",
    "while ronda <=2:\n",
    "    pregunta, respuesta = choices(list(preguntas.items()), k=1)[0]\n",
    "    respuesta_usuario = (input(pregunta)).lower()\n",
    "    if respuesta_usuario == respuesta:\n",
    "        print(\"¡Respuesta correcta!\")\n",
    "        ronda += 1\n",
    "        respuesta_usuario = False\n",
    "        print(\"---------------------\")\n",
    "    else:\n",
    "        print(\"Respuesta incorrecta, la respuesta correcta era\", respuesta.capitalize())\n",
    "        #vidas -= 1\n",
    "        ronda += 1\n",
    "        respuesta_usuario = False\n",
    "        #if vidas==0:\n",
    "        #    print(\"Lo siento, no te quedan más vidas\")\n",
    "        #    respuesta_usuario = False\n",
    "        #print(f'te quedan {vidas} vidas')\n",
    "        print ('---------------------')"
   ]
  }
 ],
 "metadata": {
  "kernelspec": {
   "display_name": "Python 3",
   "language": "python",
   "name": "python3"
  },
  "language_info": {
   "codemirror_mode": {
    "name": "ipython",
    "version": 3
   },
   "file_extension": ".py",
   "mimetype": "text/x-python",
   "name": "python",
   "nbconvert_exporter": "python",
   "pygments_lexer": "ipython3",
   "version": "3.11.5"
  }
 },
 "nbformat": 4,
 "nbformat_minor": 2
}
