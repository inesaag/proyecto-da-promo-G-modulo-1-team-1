{
 "cells": [
  {
   "cell_type": "markdown",
   "metadata": {},
   "source": [
    "# **Juego Piedra Papel o Tijera:**\n",
    " Este es un juego clásico en el que dos jugadores seleccionan una de tres opciones: Piedra, Papel o Tijera. Cada opción tiene una relación de victoria diferente: la Piedra vence a la Tijera, la Tijera vence al Papel y el Papel vence a la Piedra. El objetivo del juego es elegir la opción que vencerá a la opción seleccionada por el oponente. El juego se juega en rondas y el jugador que gana más rondas es el ganador del juego."
   ]
  },
  {
   "cell_type": "code",
   "execution_count": 2,
   "metadata": {},
   "outputs": [],
   "source": [
    "#Primer paso importa random\n",
    "import random"
   ]
  },
  {
   "cell_type": "markdown",
   "metadata": {},
   "source": [
    "**PRIMERA PRUEBA**"
   ]
  },
  {
   "cell_type": "code",
   "execution_count": 3,
   "metadata": {},
   "outputs": [
    {
     "name": "stdout",
     "output_type": "stream",
     "text": [
      "papel\n"
     ]
    }
   ],
   "source": [
    "# me pregunta qué opción elijo\n",
    "# ponemos lower por si alguien pone la palabra en otro formato\n",
    "\n",
    "pregunta = input('Piedra, papel o tijera').lower()\n",
    "print(pregunta)\n"
   ]
  },
  {
   "cell_type": "code",
   "execution_count": 4,
   "metadata": {},
   "outputs": [],
   "source": [
    "# la máquina debe elegir una opción aleatoria\n",
    "# creamos una lista con las variables\n",
    "lista_juego = ['piedra', 'papel', 'tijera']"
   ]
  },
  {
   "cell_type": "code",
   "execution_count": 5,
   "metadata": {},
   "outputs": [
    {
     "name": "stdout",
     "output_type": "stream",
     "text": [
      "piedra\n"
     ]
    }
   ],
   "source": [
    "# definimos la variable random\n",
    "eleccion = random.choice(lista_juego)\n",
    "print(eleccion)"
   ]
  },
  {
   "cell_type": "code",
   "execution_count": 6,
   "metadata": {},
   "outputs": [
    {
     "name": "stdout",
     "output_type": "stream",
     "text": [
      "papel es distinto a tijera\n"
     ]
    }
   ],
   "source": [
    "# que nos diga si es igual o no\n",
    "\n",
    "pregunta = input('Piedra, papel o tijera').lower()\n",
    "eleccion = random.choice(lista_juego)\n",
    "\n",
    "if pregunta == eleccion:\n",
    "    print(f'{pregunta} es igual a {eleccion}')\n",
    "\n",
    "else:\n",
    "    print(f'{pregunta} es distinto a {eleccion}')"
   ]
  },
  {
   "cell_type": "markdown",
   "metadata": {},
   "source": [
    "**SEGUNDA PRUEBA**\n"
   ]
  },
  {
   "cell_type": "code",
   "execution_count": 8,
   "metadata": {},
   "outputs": [
    {
     "name": "stdout",
     "output_type": "stream",
     "text": [
      "has perdido\n",
      "tijera es igual a tijera\n",
      "piedra es igual a piedra\n",
      "has ganado\n",
      "has ganado\n"
     ]
    }
   ],
   "source": [
    "#Creamos ronda/bucle while\n",
    "ronda=1\n",
    "\n",
    "while ronda <=3:\n",
    "    pregunta = input('Piedra, papel o tijera').lower()\n",
    "    eleccion = random.choice(lista_juego) \n",
    "    if pregunta == eleccion:\n",
    "       print(f'{pregunta} es igual a {eleccion}')\n",
    "    \n",
    "    elif pregunta == \"piedra\" and eleccion == \"tijera\":\n",
    "        print(\"has ganado\")\n",
    "        ronda +=1\n",
    "    elif pregunta == 'papel' and eleccion == 'piedra':\n",
    "        print (\"has ganado \")\n",
    "        ronda +=1\n",
    "    elif pregunta == 'tijera' and eleccion == 'papel':\n",
    "        print(\"has ganado\")\n",
    "        ronda +=1\n",
    "    else:\n",
    "        print(\"has perdido\")\n",
    "        ronda +=1"
   ]
  },
  {
   "cell_type": "markdown",
   "metadata": {},
   "source": [
    "**TERCERA PRUEBA**"
   ]
  },
  {
   "cell_type": "code",
   "execution_count": null,
   "metadata": {},
   "outputs": [],
   "source": [
    "#Primer paso importa random\n",
    "import random"
   ]
  },
  {
   "cell_type": "code",
   "execution_count": null,
   "metadata": {},
   "outputs": [],
   "source": [
    "ronda=1\n",
    "victorias_usuario=0\n",
    "victorias_ordenador=0\n",
    "\n",
    "while ronda <=3:\n",
    "    pregunta = input('Piedra, papel o tijera').lower()\n",
    "    eleccion = random.choice(lista_juego) \n",
    "    if pregunta == eleccion:\n",
    "        print(f'{pregunta} es igual a {eleccion}')\n",
    "        print('----')\n",
    "    \n",
    "    elif pregunta == \"piedra\" and eleccion == \"tijera\":\n",
    "        print(f'RONDA {ronda}')\n",
    "        print(\"🪨 gana ✂️\")\n",
    "        victorias_usuario +=1\n",
    "        ronda +=1\n",
    "        print('----')\n",
    "    elif pregunta == 'papel' and eleccion == 'piedra':\n",
    "        print(f'RONDA {ronda}')\n",
    "        print (\"🧻 gana 🪨\")\n",
    "        victorias_usuario +=1\n",
    "        ronda +=1\n",
    "        print('----')\n",
    "    elif pregunta == 'tijera' and eleccion == 'papel':\n",
    "        print(f'RONDA {ronda}')\n",
    "        print(\"✂️ gana 🧻\")\n",
    "        ronda +=1\n",
    "        victorias_usuario +=1\n",
    "        print('----')\n",
    "    else:\n",
    "        print(f'RONDA {ronda}')\n",
    "        print(\"Has perdido 🥲\")\n",
    "        victorias_ordenador +=1\n",
    "        ronda +=1\n",
    "        print('----')\n",
    "if victorias_usuario > victorias_ordenador:\n",
    "    print(f'¡OLÉ!¡VAMOS CRACK! 🥳🪩👯')\n",
    "else:\n",
    "    print(f'Vuelve a intentarlo 😭')"
   ]
  }
 ],
 "metadata": {
  "kernelspec": {
   "display_name": "base",
   "language": "python",
   "name": "python3"
  },
  "language_info": {
   "codemirror_mode": {
    "name": "ipython",
    "version": 3
   },
   "file_extension": ".py",
   "mimetype": "text/x-python",
   "name": "python",
   "nbconvert_exporter": "python",
   "pygments_lexer": "ipython3",
   "version": "3.9.7"
  }
 },
 "nbformat": 4,
 "nbformat_minor": 2
}
