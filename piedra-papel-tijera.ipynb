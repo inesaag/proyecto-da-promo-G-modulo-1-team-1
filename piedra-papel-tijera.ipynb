{
 "cells": [
  {
   "cell_type": "markdown",
   "metadata": {},
   "source": [
    "**Piedra Papel o Tijera:** este es un juego clásico en el que dos jugadores seleccionan una de tres opciones: Piedra, Papel o Tijera. Cada opción tiene una relación de victoria diferente: la Piedra vence a la Tijera, la Tijera vence al Papel y el Papel vence a la Piedra. El objetivo del juego es elegir la opción que vencerá a la opción seleccionada por el oponente. El juego se juega en rondas y el jugador que gana más rondas es el ganador del juego."
   ]
  },
  {
   "cell_type": "code",
   "execution_count": 2,
   "metadata": {},
   "outputs": [],
   "source": [
    "import random"
   ]
  },
  {
   "cell_type": "markdown",
   "metadata": {},
   "source": [
    "**PRIMERA PRUEBA**"
   ]
  },
  {
   "cell_type": "code",
   "execution_count": 1,
   "metadata": {},
   "outputs": [],
   "source": [
    "# creamos las tres variables\n",
    "\n",
    "piedra = 'piedra'\n",
    "tijera = 'tijera'\n",
    "papel = 'papel'"
   ]
  },
  {
   "cell_type": "code",
   "execution_count": 2,
   "metadata": {},
   "outputs": [
    {
     "name": "stdout",
     "output_type": "stream",
     "text": [
      "papel\n"
     ]
    }
   ],
   "source": [
    "# me pregunta qué opción elijo\n",
    "# ponemos lower por si alguien pone la palabra en otro formato\n",
    "\n",
    "pregunta = input('Piedra, papel o tijera').lower()\n",
    "print(pregunta)\n"
   ]
  },
  {
   "cell_type": "code",
   "execution_count": 3,
   "metadata": {},
   "outputs": [],
   "source": [
    "# la máquina debe elegir una opción aleatoria\n",
    "# creamos una lista con las variables\n",
    "lista_juego = ['piedra', 'papel', 'tijera']"
   ]
  },
  {
   "cell_type": "code",
   "execution_count": 4,
   "metadata": {},
   "outputs": [
    {
     "ename": "NameError",
     "evalue": "name 'random' is not defined",
     "output_type": "error",
     "traceback": [
      "\u001b[0;31m---------------------------------------------------------------------------\u001b[0m",
      "\u001b[0;31mNameError\u001b[0m                                 Traceback (most recent call last)",
      "\u001b[0;32m/tmp/ipykernel_1397/1192741666.py\u001b[0m in \u001b[0;36m<module>\u001b[0;34m\u001b[0m\n\u001b[1;32m      1\u001b[0m \u001b[0;31m# definimos la variable random\u001b[0m\u001b[0;34m\u001b[0m\u001b[0;34m\u001b[0m\u001b[0m\n\u001b[0;32m----> 2\u001b[0;31m \u001b[0meleccion\u001b[0m \u001b[0;34m=\u001b[0m \u001b[0mrandom\u001b[0m\u001b[0;34m.\u001b[0m\u001b[0mchoice\u001b[0m\u001b[0;34m(\u001b[0m\u001b[0mlista_juego\u001b[0m\u001b[0;34m)\u001b[0m\u001b[0;34m\u001b[0m\u001b[0;34m\u001b[0m\u001b[0m\n\u001b[0m\u001b[1;32m      3\u001b[0m \u001b[0mprint\u001b[0m\u001b[0;34m(\u001b[0m\u001b[0meleccion\u001b[0m\u001b[0;34m)\u001b[0m\u001b[0;34m\u001b[0m\u001b[0;34m\u001b[0m\u001b[0m\n",
      "\u001b[0;31mNameError\u001b[0m: name 'random' is not defined"
     ]
    }
   ],
   "source": [
    "# definimos la variable random\n",
    "eleccion = random.choice(lista_juego)\n",
    "print(eleccion)"
   ]
  },
  {
   "cell_type": "code",
   "execution_count": 21,
   "metadata": {},
   "outputs": [
    {
     "name": "stdout",
     "output_type": "stream",
     "text": [
      "tijera es igual a tijera\n"
     ]
    }
   ],
   "source": [
    "# que nos diga si es igual o no\n",
    "\n",
    "pregunta = input('Piedra, papel o tijera').lower()\n",
    "eleccion = random.choice(lista_juego)\n",
    "\n",
    "if pregunta == eleccion:\n",
    "    print(f'{pregunta} es igual a {eleccion}')\n",
    "\n",
    "else:\n",
    "    print(f'{pregunta} es distinto a {eleccion}')"
   ]
  },
  {
   "cell_type": "code",
   "execution_count": 27,
   "metadata": {},
   "outputs": [],
   "source": [
    "# tenemos que darle valor a las variables para que unas ganen a otras\n",
    "\n",
    "dicc_juego = {'tijera':1, 'papel':2, 'piedra':3}\n",
    "\n",
    "\n",
    "\n",
    "\n"
   ]
  },
  {
   "cell_type": "code",
   "execution_count": 29,
   "metadata": {},
   "outputs": [
    {
     "name": "stdout",
     "output_type": "stream",
     "text": [
      "{'tijera': 1, 'papel': 2, 'piedra': 3}\n",
      "dict_values([1, 2, 3])\n"
     ]
    }
   ],
   "source": [
    "print(dicc_juego)\n",
    "print(dicc_juego.values())\n",
    "pregunta = input('Piedra, papel o tijera').lower()\n",
    "\n",
    "if dicc_juego.values() == eleccion:\n",
    "    print(f'{pregunta} es igual a {eleccion}')\n",
    "\n",
    "elif "
   ]
  },
  {
   "cell_type": "markdown",
   "metadata": {},
   "source": [
    "Una manera de hacerlo puede ser en lugar de darles valor ir describiendo. Tipo:\n",
    "\n",
    "if jugador == piedra\n",
    "    if eleccion == papel: Has perdido\n",
    "    \n",
    "    else eleccion == tijeras: Has ganado\n",
    "\n",
    "\n",
    "Ir haciéndolo así con cada una de las posibilidades"
   ]
  },
  {
   "cell_type": "code",
   "execution_count": 1,
   "metadata": {},
   "outputs": [
    {
     "ename": "NameError",
     "evalue": "name 'random' is not defined",
     "output_type": "error",
     "traceback": [
      "\u001b[0;31m---------------------------------------------------------------------------\u001b[0m",
      "\u001b[0;31mNameError\u001b[0m                                 Traceback (most recent call last)",
      "\u001b[0;32m/tmp/ipykernel_1397/1542071305.py\u001b[0m in \u001b[0;36m<module>\u001b[0;34m\u001b[0m\n\u001b[1;32m      2\u001b[0m \u001b[0;34m\u001b[0m\u001b[0m\n\u001b[1;32m      3\u001b[0m \u001b[0mpregunta\u001b[0m \u001b[0;34m=\u001b[0m \u001b[0minput\u001b[0m\u001b[0;34m(\u001b[0m\u001b[0;34m'Piedra, papel o tijera'\u001b[0m\u001b[0;34m)\u001b[0m\u001b[0;34m.\u001b[0m\u001b[0mlower\u001b[0m\u001b[0;34m(\u001b[0m\u001b[0;34m)\u001b[0m\u001b[0;34m\u001b[0m\u001b[0;34m\u001b[0m\u001b[0m\n\u001b[0;32m----> 4\u001b[0;31m \u001b[0meleccion\u001b[0m \u001b[0;34m=\u001b[0m \u001b[0mrandom\u001b[0m\u001b[0;34m.\u001b[0m\u001b[0mchoice\u001b[0m\u001b[0;34m(\u001b[0m\u001b[0mlista_juego\u001b[0m\u001b[0;34m)\u001b[0m\u001b[0;34m\u001b[0m\u001b[0;34m\u001b[0m\u001b[0m\n\u001b[0m\u001b[1;32m      5\u001b[0m \u001b[0;32mif\u001b[0m \u001b[0mpregunta\u001b[0m \u001b[0;32mnot\u001b[0m \u001b[0;32min\u001b[0m \u001b[0mlista_juego\u001b[0m\u001b[0;34m:\u001b[0m\u001b[0;34m\u001b[0m\u001b[0;34m\u001b[0m\u001b[0m\n\u001b[1;32m      6\u001b[0m     \u001b[0mprint\u001b[0m\u001b[0;34m(\u001b[0m\u001b[0;34m\"error, no sabes jugar\"\u001b[0m\u001b[0;34m)\u001b[0m\u001b[0;34m\u001b[0m\u001b[0;34m\u001b[0m\u001b[0m\n",
      "\u001b[0;31mNameError\u001b[0m: name 'random' is not defined"
     ]
    }
   ],
   "source": [
    "# que nos diga si es igual o no\n",
    "\n",
    "pregunta = input('Piedra, papel o tijera').lower()\n",
    "eleccion = random.choice(lista_juego)\n",
    "if pregunta not in lista_juego:\n",
    "    print(\"error, no sabes jugar\")\n",
    "\n",
    "    if pregunta == eleccion:\n",
    "       print(f'{pregunta} es igual a {eleccion}')\n",
    "\n",
    "#ponemos todas las opciones ganadoras posibles\n",
    "    elif ((pregunta == \"piedra\" and eleccion == \"tijera\") or  (pregunta == 'papel' and eleccion == 'piedra') or\n",
    "            (pregunta == 'tijera' and eleccion == 'papel')\n",
    "        ):\n",
    "\n",
    "        print(f\"{eleccion} ganaste\")\n",
    "\n",
    "    else:\n",
    "        print(f\"{eleccion} perdiste\")"
   ]
  }
 ],
 "metadata": {
  "kernelspec": {
   "display_name": "base",
   "language": "python",
   "name": "python3"
  },
  "language_info": {
   "codemirror_mode": {
    "name": "ipython",
    "version": 3
   },
   "file_extension": ".py",
   "mimetype": "text/x-python",
   "name": "python",
   "nbconvert_exporter": "python",
   "pygments_lexer": "ipython3",
   "version": "3.9.7"
  }
 },
 "nbformat": 4,
 "nbformat_minor": 2
}
